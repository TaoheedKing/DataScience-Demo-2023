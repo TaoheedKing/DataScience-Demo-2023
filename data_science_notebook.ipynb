{
  "nbformat": 4,
  "nbformat_minor": 0,
  "metadata": {
    "colab": {
      "provenance": [],
      "authorship_tag": "ABX9TyPbJ8+QIJ8K9ZJe5Iosdp6w",
      "include_colab_link": true
    },
    "kernelspec": {
      "name": "python3",
      "display_name": "Python 3"
    },
    "language_info": {
      "name": "python"
    }
  },
  "cells": [
    {
      "cell_type": "markdown",
      "metadata": {
        "id": "view-in-github",
        "colab_type": "text"
      },
      "source": [
        "<a href=\"https://colab.research.google.com/github/TaoheedKing/DataScience-Demo-2023/blob/main/data_science_notebook.ipynb\" target=\"_parent\"><img src=\"https://colab.research.google.com/assets/colab-badge.svg\" alt=\"Open In Colab\"/></a>"
      ]
    },
    {
      "cell_type": "markdown",
      "source": [
        "## Ingest"
      ],
      "metadata": {
        "id": "NASt8jBMT95B"
      }
    },
    {
      "cell_type": "code",
      "source": [],
      "metadata": {
        "id": "f0m1YovBXORw"
      },
      "execution_count": null,
      "outputs": []
    },
    {
      "cell_type": "markdown",
      "source": [
        "## EDA"
      ],
      "metadata": {
        "id": "dLeEIenxUFAN"
      }
    },
    {
      "cell_type": "code",
      "source": [],
      "metadata": {
        "id": "Hc1a8HajXO22"
      },
      "execution_count": null,
      "outputs": []
    },
    {
      "cell_type": "markdown",
      "source": [
        "## Modeling"
      ],
      "metadata": {
        "id": "X1wqN1tPUKCW"
      }
    },
    {
      "cell_type": "markdown",
      "source": [
        "### Classification Algorithm A"
      ],
      "metadata": {
        "id": "Tch-Tj3iUd0k"
      }
    },
    {
      "cell_type": "code",
      "source": [],
      "metadata": {
        "id": "R0NMNZTsU1Ky"
      },
      "execution_count": null,
      "outputs": []
    },
    {
      "cell_type": "markdown",
      "source": [
        "### Classification Algorithm B"
      ],
      "metadata": {
        "id": "euNYoZlGUpW2"
      }
    },
    {
      "cell_type": "code",
      "source": [],
      "metadata": {
        "id": "97RNDTCnU0bs"
      },
      "execution_count": null,
      "outputs": []
    },
    {
      "cell_type": "markdown",
      "source": [
        "## Conclusion"
      ],
      "metadata": {
        "id": "kVBrvf3RULp7"
      }
    },
    {
      "cell_type": "code",
      "source": [],
      "metadata": {
        "id": "t-XZ6UbnUym6"
      },
      "execution_count": null,
      "outputs": []
    }
  ]
}